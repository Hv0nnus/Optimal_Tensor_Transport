{
 "cells": [
  {
   "cell_type": "markdown",
   "metadata": {},
   "source": [
    "# Clustering experiments"
   ]
  },
  {
   "cell_type": "markdown",
   "metadata": {},
   "source": [
    "- In this notebook we will show how to launch the experiments and display tables and figures availables in the paper.\n",
    "- Notice that the name of some methods are different from the paper, notably Optimal Tensor Transport was originaly named Generalized Optimal Tensor (GOT).\n",
    "- It is possible that the code do to run directly as some datasets and intermediate files as been deleted due to size limit. The dataset for the triplets task in available at (http://yann.lecun.com/exdb/mnist/)\n",
    "- The key function is barycenter_OTT_L2 in gromov.py\n",
    "- I changed some part of the code after the experiments, I hope I did not add any bugs. Do not hesitate to send a mail to: tanguy.kerdoncuff@laposte.net if you have any problem at all."
   ]
  },
  {
   "cell_type": "markdown",
   "metadata": {},
   "source": [
    "Use the \"-s\" option to save the result and add the \"-n\" option to recreate the datasets."
   ]
  },
  {
   "cell_type": "markdown",
   "metadata": {},
   "source": [
    "The result can be recreated with the following commands"
   ]
  },
  {
   "cell_type": "code",
   "execution_count": 3,
   "metadata": {},
   "outputs": [
    {
     "name": "stdout",
     "output_type": "stream",
     "text": [
      "./Barycenter/pickle/umap_3,1,1|0,1,2_mnist.pickle\r\n",
      "Traceback (most recent call last):\r\n",
      "  File \"Barycenter.py\", line 626, in <module>\r\n",
      "    main(args)\r\n",
      "  File \"Barycenter.py\", line 275, in main\r\n",
      "    features=args[\"features\"])\r\n",
      "  File \"Barycenter.py\", line 48, in mnist_model\r\n",
      "    labels_path=path + 'train-labels-idx1-ubyte')\r\n",
      "  File \"Barycenter.py\", line 30, in loadlocal_mnist\r\n",
      "    with open(labels_path, 'rb') as lbpath:\r\n",
      "FileNotFoundError: [Errno 2] No such file or directory: './data/MNIST/raw/train-labels-idx1-ubyte'\r\n"
     ]
    }
   ],
   "source": [
    "!python Barycenter.py -n --n_per_features 200,20,20 --labels_selected 0,1,2 --features umap"
   ]
  },
  {
   "cell_type": "markdown",
   "metadata": {},
   "source": [
    "## Tables"
   ]
  },
  {
   "cell_type": "markdown",
   "metadata": {},
   "source": [
    "import umap can take some times, you can comment this line to speed up the display of tables"
   ]
  },
  {
   "cell_type": "code",
   "execution_count": 12,
   "metadata": {
    "scrolled": true
   },
   "outputs": [
    {
     "name": "stdout",
     "output_type": "stream",
     "text": [
      "\r\n",
      "\\begin{table}\r\n",
      "\\centering\r\n",
      "\\caption{ARI for the mnist dataset with umap features.}\r\n",
      "\\label{tab:baryumapmnist}\r\n",
      "\\begin{tabular}{llllll}\r\n",
      "\\toprule\r\n",
      "  Datasets &        \\AddS{} &  \\AddS{}$_{s}$ &          t-STE &             t-STE$_{s}$ &                  \\GOT{} \\\\\r\n",
      "\\midrule\r\n",
      " 200,20,20 &  0.43$\\pm$0.12 &   0.8$\\pm$0.17 &  0.56$\\pm$0.07 &  \\textbf{0.91}$\\pm$0.04 &  \\textbf{0.91}$\\pm$0.04 \\\\\r\n",
      "    30,3,1 &  0.28$\\pm$0.09 &  0.82$\\pm$0.17 &  0.49$\\pm$0.14 &  \\textbf{0.91}$\\pm$0.14 &           0.89$\\pm$0.14 \\\\\r\n",
      "    30,3,3 &  0.37$\\pm$0.13 &  0.78$\\pm$0.23 &  0.52$\\pm$0.09 &  \\textbf{0.93}$\\pm$0.19 &           0.87$\\pm$0.19 \\\\\r\n",
      " 300,30,10 &  0.28$\\pm$0.04 &  0.83$\\pm$0.07 &   0.48$\\pm$0.1 &  \\textbf{0.89}$\\pm$0.04 &  \\textbf{0.89}$\\pm$0.04 \\\\\r\n",
      "       AVG &  0.34$\\pm$0.09 &  0.81$\\pm$0.16 &   0.51$\\pm$0.1 &  \\textbf{0.91}$\\pm$0.08 &            0.89$\\pm$0.1 \\\\\r\n",
      "\\bottomrule\r\n",
      "\\end{tabular}\r\n",
      "\r\n",
      "\\end{table}\r\n"
     ]
    }
   ],
   "source": [
    "!python Barycenter.py -d --features umap --dataset_plot \"200,20,20|/30,3,1|/30,3,3|/300,30,10|\" --algo SDP,SDP_supervised,tste,tste_supervised,OTT --algo_display \\\\AddS{},\\\\AddS{}$\\_{s}$,t-STE,t-STE$\\_{s}$,\\\\GOT{}"
   ]
  },
  {
   "cell_type": "code",
   "execution_count": 13,
   "metadata": {
    "scrolled": true
   },
   "outputs": [
    {
     "name": "stdout",
     "output_type": "stream",
     "text": [
      "\\begin{table}\r\n",
      "\\centering\r\n",
      "\\caption{ARI for the mnist dataset with umap features.}\r\n",
      "\\label{tab:baryumapmnist}\r\n",
      "\\begin{tabular}{llllll}\r\n",
      "\\toprule\r\n",
      "        Datasets &        \\AddS{} &           \\AddS{}$_{s}$ &                   t-STE &             t-STE$_{s}$ &                  \\GOT{} \\\\\r\n",
      "\\midrule\r\n",
      " 200,20,20|0,1,2 &  0.35$\\pm$0.02 &           0.89$\\pm$0.19 &           0.36$\\pm$0.02 &  \\textbf{0.97}$\\pm$0.02 &           0.96$\\pm$0.02 \\\\\r\n",
      " 200,20,20|1,3,4 &  0.35$\\pm$0.02 &           0.92$\\pm$0.03 &           0.34$\\pm$0.01 &           0.94$\\pm$0.03 &  \\textbf{0.94}$\\pm$0.03 \\\\\r\n",
      " 200,20,20|1,9,4 &  0.35$\\pm$0.02 &           0.92$\\pm$0.03 &           0.34$\\pm$0.01 &           0.94$\\pm$0.03 &  \\textbf{0.94}$\\pm$0.03 \\\\\r\n",
      " 200,20,20|2,9,8 &  0.32$\\pm$0.03 &            0.8$\\pm$0.05 &           0.72$\\pm$0.21 &  \\textbf{0.82}$\\pm$0.06 &            0.8$\\pm$0.06 \\\\\r\n",
      " 200,20,20|3,4,0 &  0.72$\\pm$0.32 &           0.52$\\pm$0.25 &  \\textbf{0.94}$\\pm$0.02 &           0.88$\\pm$0.18 &           0.87$\\pm$0.06 \\\\\r\n",
      " 200,20,20|3,4,9 &  0.38$\\pm$0.06 &           0.83$\\pm$0.18 &           0.39$\\pm$0.16 &   \\textbf{0.9}$\\pm$0.05 &            0.9$\\pm$0.04 \\\\\r\n",
      " 200,20,20|5,7,0 &  0.57$\\pm$0.34 &           0.76$\\pm$0.35 &           0.93$\\pm$0.04 &  \\textbf{0.94}$\\pm$0.04 &           0.93$\\pm$0.05 \\\\\r\n",
      " 200,20,20|6,4,8 &  0.35$\\pm$0.03 &            0.89$\\pm$0.2 &           0.33$\\pm$0.01 &           0.96$\\pm$0.02 &  \\textbf{0.97}$\\pm$0.02 \\\\\r\n",
      " 200,20,20|6,8,5 &  0.36$\\pm$0.03 &           0.81$\\pm$0.24 &            0.4$\\pm$0.18 &           0.93$\\pm$0.04 &  \\textbf{0.94}$\\pm$0.03 \\\\\r\n",
      " 200,20,20|7,1,9 &  0.53$\\pm$0.35 &           0.69$\\pm$0.22 &  \\textbf{0.86}$\\pm$0.05 &            0.8$\\pm$0.06 &            0.8$\\pm$0.05 \\\\\r\n",
      "    30,3,1|0,1,2 &  0.32$\\pm$0.08 &            0.8$\\pm$0.33 &           0.35$\\pm$0.17 &           0.93$\\pm$0.12 &  \\textbf{0.93}$\\pm$0.12 \\\\\r\n",
      "    30,3,1|1,3,4 &  0.28$\\pm$0.08 &           0.85$\\pm$0.33 &           0.37$\\pm$0.21 &   \\textbf{1.0}$\\pm$0.01 &           0.96$\\pm$0.09 \\\\\r\n",
      "    30,3,1|1,9,4 &   0.27$\\pm$0.1 &           0.96$\\pm$0.09 &            0.3$\\pm$0.03 &  \\textbf{0.99}$\\pm$0.01 &           0.95$\\pm$0.09 \\\\\r\n",
      "    30,3,1|2,9,8 &  0.29$\\pm$0.08 &           0.87$\\pm$0.15 &           0.35$\\pm$0.17 &   \\textbf{0.9}$\\pm$0.14 &           0.84$\\pm$0.15 \\\\\r\n",
      "    30,3,1|3,4,0 &    0.2$\\pm$0.1 &           0.61$\\pm$0.24 &   \\textbf{0.9}$\\pm$0.12 &           0.85$\\pm$0.15 &           0.84$\\pm$0.21 \\\\\r\n",
      "    30,3,1|3,4,9 &  0.29$\\pm$0.06 &           0.84$\\pm$0.21 &           0.33$\\pm$0.17 &  \\textbf{0.87}$\\pm$0.15 &           0.84$\\pm$0.21 \\\\\r\n",
      "    30,3,1|5,7,0 &  0.25$\\pm$0.06 &            0.7$\\pm$0.01 &           0.85$\\pm$0.22 &           0.88$\\pm$0.15 &   \\textbf{0.9}$\\pm$0.15 \\\\\r\n",
      "    30,3,1|6,4,8 &  0.31$\\pm$0.03 &           0.94$\\pm$0.12 &           0.29$\\pm$0.03 &  \\textbf{0.96}$\\pm$0.09 &            0.9$\\pm$0.13 \\\\\r\n",
      "    30,3,1|6,8,5 &  0.31$\\pm$0.05 &            0.9$\\pm$0.14 &           0.29$\\pm$0.03 &   \\textbf{0.97}$\\pm$0.1 &            0.9$\\pm$0.14 \\\\\r\n",
      "    30,3,1|7,1,9 &  0.27$\\pm$0.23 &           0.76$\\pm$0.12 &           0.84$\\pm$0.23 &           0.81$\\pm$0.15 &  \\textbf{0.84}$\\pm$0.16 \\\\\r\n",
      "    30,3,3|0,1,2 &   0.4$\\pm$0.11 &           0.85$\\pm$0.19 &           0.38$\\pm$0.11 &  \\textbf{0.89}$\\pm$0.12 &           0.83$\\pm$0.19 \\\\\r\n",
      "    30,3,3|1,3,4 &  0.37$\\pm$0.05 &           0.85$\\pm$0.24 &           0.35$\\pm$0.03 &  \\textbf{0.99}$\\pm$0.01 &           0.93$\\pm$0.18 \\\\\r\n",
      "    30,3,3|1,9,4 &  0.37$\\pm$0.05 &           0.85$\\pm$0.25 &           0.36$\\pm$0.03 &  \\textbf{0.99}$\\pm$0.01 &           0.92$\\pm$0.18 \\\\\r\n",
      "    30,3,3|2,9,8 &  0.34$\\pm$0.06 &            0.8$\\pm$0.24 &           0.38$\\pm$0.17 &  \\textbf{0.87}$\\pm$0.12 &           0.81$\\pm$0.24 \\\\\r\n",
      "    30,3,3|3,4,0 &  0.47$\\pm$0.38 &            0.5$\\pm$0.25 &           0.94$\\pm$0.07 &  \\textbf{0.95}$\\pm$0.09 &            0.8$\\pm$0.17 \\\\\r\n",
      "    30,3,3|3,4,9 &   0.38$\\pm$0.1 &           0.83$\\pm$0.21 &           0.37$\\pm$0.17 &  \\textbf{0.89}$\\pm$0.12 &           0.85$\\pm$0.19 \\\\\r\n",
      "    30,3,3|5,7,0 &  0.27$\\pm$0.21 &           0.73$\\pm$0.29 &           0.91$\\pm$0.09 &  \\textbf{0.95}$\\pm$0.09 &           0.89$\\pm$0.19 \\\\\r\n",
      "    30,3,3|6,4,8 &  0.36$\\pm$0.04 &           0.89$\\pm$0.19 &           0.36$\\pm$0.03 &  \\textbf{0.96}$\\pm$0.07 &           0.92$\\pm$0.18 \\\\\r\n",
      "    30,3,3|6,8,5 &  0.36$\\pm$0.04 &           0.89$\\pm$0.19 &           0.36$\\pm$0.03 &  \\textbf{0.98}$\\pm$0.07 &           0.93$\\pm$0.18 \\\\\r\n",
      "    30,3,3|7,1,9 &  0.38$\\pm$0.27 &           0.59$\\pm$0.23 &  \\textbf{0.81}$\\pm$0.19 &           0.77$\\pm$0.17 &             0.8$\\pm$0.2 \\\\\r\n",
      " 300,30,10|0,1,2 &   0.3$\\pm$0.02 &           0.96$\\pm$0.02 &            0.3$\\pm$0.01 &           0.96$\\pm$0.03 &  \\textbf{0.96}$\\pm$0.02 \\\\\r\n",
      " 300,30,10|1,3,4 &  0.29$\\pm$0.01 &           0.93$\\pm$0.02 &            0.28$\\pm$0.0 &            0.89$\\pm$0.1 &  \\textbf{0.93}$\\pm$0.03 \\\\\r\n",
      " 300,30,10|1,9,4 &  0.29$\\pm$0.01 &  \\textbf{0.94}$\\pm$0.03 &           0.28$\\pm$0.01 &           0.93$\\pm$0.03 &           0.93$\\pm$0.04 \\\\\r\n",
      " 300,30,10|2,9,8 &  0.28$\\pm$0.03 &   \\textbf{0.8}$\\pm$0.05 &           0.42$\\pm$0.26 &           0.77$\\pm$0.04 &           0.73$\\pm$0.06 \\\\\r\n",
      " 300,30,10|3,4,0 &  0.25$\\pm$0.04 &           0.59$\\pm$0.23 &  \\textbf{0.92}$\\pm$0.03 &           0.91$\\pm$0.06 &           0.85$\\pm$0.06 \\\\\r\n",
      " 300,30,10|3,4,9 &   0.3$\\pm$0.04 &            0.85$\\pm$0.1 &            0.4$\\pm$0.22 &            0.9$\\pm$0.04 &  \\textbf{0.91}$\\pm$0.03 \\\\\r\n",
      " 300,30,10|5,7,0 &   0.3$\\pm$0.19 &           0.68$\\pm$0.02 &            0.9$\\pm$0.04 &  \\textbf{0.91}$\\pm$0.04 &           0.88$\\pm$0.06 \\\\\r\n",
      " 300,30,10|6,4,8 &   0.3$\\pm$0.02 &           0.93$\\pm$0.09 &           0.28$\\pm$0.01 &           0.92$\\pm$0.09 &  \\textbf{0.96}$\\pm$0.03 \\\\\r\n",
      " 300,30,10|6,8,5 &   0.3$\\pm$0.02 &             0.9$\\pm$0.1 &           0.34$\\pm$0.19 &  \\textbf{0.94}$\\pm$0.03 &           0.93$\\pm$0.03 \\\\\r\n",
      " 300,30,10|7,1,9 &  0.25$\\pm$0.03 &           0.69$\\pm$0.04 &           0.65$\\pm$0.27 &           0.76$\\pm$0.05 &  \\textbf{0.78}$\\pm$0.05 \\\\\r\n",
      "             AVG &  0.34$\\pm$0.09 &           0.81$\\pm$0.16 &            0.51$\\pm$0.1 &  \\textbf{0.91}$\\pm$0.08 &            0.89$\\pm$0.1 \\\\\r\n",
      "\\bottomrule\r\n",
      "\\end{tabular}\r\n",
      "\r\n",
      "\\end{table}\r\n"
     ]
    }
   ],
   "source": [
    "!python Barycenter.py -d --features umap --algo SDP,SDP_supervised,tste,tste_supervised,OTT --algo_display \\\\AddS{},\\\\AddS{}$\\_{s}$,t-STE,t-STE$\\_{s}$,\\\\GOT{}"
   ]
  },
  {
   "cell_type": "code",
   "execution_count": 15,
   "metadata": {
    "scrolled": true
   },
   "outputs": [
    {
     "name": "stdout",
     "output_type": "stream",
     "text": [
      "\\begin{table}\r\n",
      "\\centering\r\n",
      "\\caption{ARI for the mnist dataset with umap features.}\r\n",
      "\\label{tab:baryumapmnist}\r\n",
      "\\begin{tabular}{llllll}\r\n",
      "\\toprule\r\n",
      "    Datasets &                 \\AddS{} &           \\AddS{}$_{s}$ &          t-STE &             t-STE$_{s}$ &         \\GOT{} \\\\\r\n",
      "\\midrule\r\n",
      "    10,10,10 &            0.9$\\pm$0.08 &             0.9$\\pm$0.1 &  0.88$\\pm$0.13 &  \\textbf{0.93}$\\pm$0.11 &   0.9$\\pm$0.11 \\\\\r\n",
      "    20,20,20 &            0.9$\\pm$0.06 &            0.9$\\pm$0.07 &  0.87$\\pm$0.12 &  \\textbf{0.92}$\\pm$0.08 &   0.9$\\pm$0.08 \\\\\r\n",
      "    30,30,30 &           0.91$\\pm$0.05 &            0.9$\\pm$0.05 &   0.87$\\pm$0.1 &  \\textbf{0.92}$\\pm$0.07 &  0.91$\\pm$0.07 \\\\\r\n",
      "    40,40,40 &  \\textbf{0.92}$\\pm$0.06 &           0.91$\\pm$0.05 &   0.86$\\pm$0.1 &  \\textbf{0.92}$\\pm$0.06 &   0.9$\\pm$0.06 \\\\\r\n",
      "    50,50,50 &  \\textbf{0.92}$\\pm$0.06 &  \\textbf{0.92}$\\pm$0.06 &  0.85$\\pm$0.11 &  \\textbf{0.92}$\\pm$0.06 &   0.9$\\pm$0.06 \\\\\r\n",
      "    60,60,60 &  \\textbf{0.92}$\\pm$0.05 &           0.91$\\pm$0.04 &  0.86$\\pm$0.09 &  \\textbf{0.92}$\\pm$0.05 &   0.9$\\pm$0.05 \\\\\r\n",
      "    70,70,70 &  \\textbf{0.92}$\\pm$0.05 &  \\textbf{0.92}$\\pm$0.05 &  0.85$\\pm$0.07 &  \\textbf{0.92}$\\pm$0.05 &  0.88$\\pm$0.05 \\\\\r\n",
      "    80,80,80 &  \\textbf{0.92}$\\pm$0.06 &           0.91$\\pm$0.03 &   0.85$\\pm$0.1 &  \\textbf{0.92}$\\pm$0.06 &  0.86$\\pm$0.06 \\\\\r\n",
      "    90,90,90 &  \\textbf{0.92}$\\pm$0.11 &  \\textbf{0.92}$\\pm$0.11 &  0.87$\\pm$0.09 &  \\textbf{0.92}$\\pm$0.11 &   0.8$\\pm$0.11 \\\\\r\n",
      " 100,100,100 &  \\textbf{0.92}$\\pm$0.13 &  \\textbf{0.92}$\\pm$0.13 &  0.85$\\pm$0.09 &  \\textbf{0.92}$\\pm$0.13 &  0.73$\\pm$0.13 \\\\\r\n",
      "         AVG &           0.91$\\pm$0.04 &           0.91$\\pm$0.05 &   0.86$\\pm$0.1 &  \\textbf{0.92}$\\pm$0.05 &  0.87$\\pm$0.08 \\\\\r\n",
      "\\bottomrule\r\n",
      "\\end{tabular}\r\n",
      "\r\n",
      "\\end{table}\r\n"
     ]
    }
   ],
   "source": [
    "!python Barycenter.py -d --dataset_plot \"10,10,10|/20,20,20|/30,30,30|/40,40,40|/50,50,50|/60,60,60|/70,70,70|/80,80,80|/90,90,90|/100,100,100|\" --features umap --algo SDP,SDP_supervised,tste,tste_supervised,OTT --algo_display \\\\AddS{},\\\\AddS{}$\\_{s}$,t-STE,t-STE$\\_{s}$,\\\\GOT{}"
   ]
  }
 ],
 "metadata": {
  "kernelspec": {
   "display_name": "Python [conda env:Fused-PoGroW_triplet]",
   "language": "python",
   "name": "conda-env-Fused-PoGroW_triplet-py"
  },
  "language_info": {
   "codemirror_mode": {
    "name": "ipython",
    "version": 3
   },
   "file_extension": ".py",
   "mimetype": "text/x-python",
   "name": "python",
   "nbconvert_exporter": "python",
   "pygments_lexer": "ipython3",
   "version": "3.7.9"
  }
 },
 "nbformat": 4,
 "nbformat_minor": 2
}
